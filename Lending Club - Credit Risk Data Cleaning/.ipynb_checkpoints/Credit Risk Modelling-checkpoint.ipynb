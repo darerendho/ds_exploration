{
 "cells": [
  {
   "cell_type": "markdown",
   "metadata": {},
   "source": [
    "# Credit Risk Modelling\n"
   ]
  },
  {
   "cell_type": "markdown",
   "metadata": {},
   "source": [
    "Modelling creidt risk has been a well known data science problem. Credit has played a key role in the economy for centuries and some form of credit has existed since the beginning of commerce. I will be using financial lending data from Lending Club to model the credit risk. Lending Club is a marketplace for personal loans that matches borrowers who are seeking a loan with investors looking to lend money and make a return. You can read more about their marketplace here.https://www.lendingclub.com/public/how-peer-lending-works.action.\n",
    "\n",
    "Investors main concern is to receive an interest on the returns on their investments. Qualified investor can browse loans, purpose of loan and credit scores of borrowers. Once loan is fully, borrower receive the money less Lending Club transaction fee.\n",
    "\n",
    "Credit modelling on the investors end need to be more rigourous to define with higher probability loans that will be defaulted on and those that will be paid back in full. Higher interest on loans equates to higher returns with the added risk of weak financial history of the borrower.\n",
    "\n",
    "The model with be under the assumption that the investor is conservative risk-appetiite.\n",
    "\n",
    "We will further benchmark this against S&P 500 and MSCI World index in terms of Year-on-Year(YoY)"
   ]
  },
  {
   "cell_type": "markdown",
   "metadata": {},
   "source": [
    "# Data Cleaning"
   ]
  },
  {
   "cell_type": "markdown",
   "metadata": {},
   "source": [
    "Lending Club data is formatted in csv format along with a data dictionary concerning the columns names. **LoanStats** sheet only concerns us as **RejectStats** are not available for investment. \n",
    "\n",
    "### Goal - Build a ML model to accurately predict if a borrower will pay loan time or not\n",
    "\n",
    "\n"
   ]
  },
  {
   "cell_type": "code",
   "execution_count": null,
   "metadata": {},
   "outputs": [],
   "source": [
    "import pandas as pd\n",
    "import numpy as np\n",
    "import matplotlib.pyplot as plt\n",
    "import seaborn as sns\n",
    "\n",
    "%matplotlib inline\n",
    "\n",
    "loans_2019 = pd.read_csv(\"LoanStats_2019Q1.csv\")\n"
   ]
  },
  {
   "cell_type": "code",
   "execution_count": null,
   "metadata": {},
   "outputs": [],
   "source": [
    "loans_2019.columns"
   ]
  },
  {
   "cell_type": "code",
   "execution_count": null,
   "metadata": {},
   "outputs": [],
   "source": [
    "loans_2019.shape"
   ]
  },
  {
   "cell_type": "code",
   "execution_count": null,
   "metadata": {},
   "outputs": [],
   "source": [
    "loans_2019.isnull().sum()"
   ]
  },
  {
   "cell_type": "markdown",
   "metadata": {},
   "source": [
    "Dropping columns that are 50% empty and above as they have no use."
   ]
  },
  {
   "cell_type": "code",
   "execution_count": null,
   "metadata": {},
   "outputs": [],
   "source": [
    "for col in loans_2019.columns:\n",
    "    if loans_2019[col].isna().sum() > ((loans_2019.shape[0])/2):\n",
    "        loans_2019.drop(labels = col, axis=1,inplace=True)\n",
    "        \n",
    "        \n",
    "loans_2019.columns"
   ]
  },
  {
   "cell_type": "markdown",
   "metadata": {},
   "source": [
    "There are 101 columns dropped from 141 that we are left with. \n",
    "* Ensure that none of the features leak information about that future. \n",
    "* Badly formatted rows that need to be cleaned up\n",
    "* Require more infor to process to be useful to a important feature\n",
    "* Reduce Redundant Information\n",
    "\n",
    "There are 4 columns with  around 10% of its rows which are empty, lets look at these columns and see what we can do with them and what they represent.\n",
    "\n",
    "emp_length                    11105\n",
    "mths_since_recent_inq         14361\n",
    "il_util                       17323\n",
    "emp_title                     19522\n",
    "\n",
    "**emp_length** indicates the the duration by which the borrower is in the job. Borrower might be self-employed or transitioning between jobs or homeless. Perhaps switching to a categorical format might be better by creating dummy values\n",
    "\n",
    "**il_uti** indiciates the ratio of total current balance to high credit/credit limit on all install acct. It is a indicator to show the capability of the borrowers to return the money.\n",
    "\n",
    "**emp_title** might be useful a predictor to determine if a person job title will return their loans. Extensive preprocesing required.\n",
    "**funded_amnt** :  leaks data about the future\n",
    "**funded_amnt_inv** : leaks information about the future\n",
    "**grade** : Same as interest rate, redundant information\n",
    "**sub_gradee**: Same info as interest rate column\n",
    "**issue_d**: More information was leaked whether the loan is completely funded"
   ]
  },
  {
   "cell_type": "code",
   "execution_count": null,
   "metadata": {},
   "outputs": [],
   "source": [
    "loans_2019['emp_length'].value_counts(dropna=False)"
   ]
  },
  {
   "cell_type": "code",
   "execution_count": null,
   "metadata": {},
   "outputs": [],
   "source": [
    "to_drop_col = ['funded_amnt','funded_amnt_inv','grade','sub_grade','emp_title','issue_d']\n",
    "\n",
    "clean_loans_2019 = loans_2019.drop(columns = to_drop_col,axis=1)"
   ]
  },
  {
   "cell_type": "markdown",
   "metadata": {},
   "source": [
    "**zip_code**: redundant with the addr_state column since only the first 3 digits of the 5 digit zip code are visible (which only can be used to identify the state the borrower lives in)\n",
    "**out_prncp**: leaks data from the future, (after the loan already started to be paid off)\n",
    "**out_prncp_inv**: also leaks data from the future, (after the loan already started to be paid off)\n",
    "**total_pymnt**: also leaks data from the future, (after the loan already started to be paid off)\n",
    "**total_pymnt_inv**: also leaks data from the future, (after the loan already started to be paid off)\n",
    "**total_rec_prncp**: also leaks data from the future, (after the loan already started to be paid off)\n",
    "\n",
    "The **out_prncp** and **out_prncp_inv** both describe the outstanding principal amount for a loan, which is the remaining amount the borrower still owes. These 2 columns as well as the **total_pymnt** column describe properties of the loan after it's fully funded and started to be paid off. This information isn't available to an investor before the loan is fully funded thus it would not be an avaiable feature. "
   ]
  },
  {
   "cell_type": "code",
   "execution_count": null,
   "metadata": {},
   "outputs": [],
   "source": [
    "clean_loans_2019.isnull().sum()[:30]"
   ]
  },
  {
   "cell_type": "code",
   "execution_count": null,
   "metadata": {},
   "outputs": [],
   "source": [
    "to_drop_2 = ['zip_code','out_prncp','out_prncp_inv','total_pymnt','total_pymnt_inv']\n",
    "\n",
    "clean_loans_2019.drop(to_drop_2,axis=1)\n"
   ]
  },
  {
   "cell_type": "code",
   "execution_count": null,
   "metadata": {},
   "outputs": [],
   "source": [
    "clean_loans_2019.isnull().sum()"
   ]
  }
 ],
 "metadata": {
  "kernelspec": {
   "display_name": "Python 3",
   "language": "python",
   "name": "python3"
  },
  "language_info": {
   "codemirror_mode": {
    "name": "ipython",
    "version": 3
   },
   "file_extension": ".py",
   "mimetype": "text/x-python",
   "name": "python",
   "nbconvert_exporter": "python",
   "pygments_lexer": "ipython3",
   "version": "3.7.1"
  }
 },
 "nbformat": 4,
 "nbformat_minor": 2
}
