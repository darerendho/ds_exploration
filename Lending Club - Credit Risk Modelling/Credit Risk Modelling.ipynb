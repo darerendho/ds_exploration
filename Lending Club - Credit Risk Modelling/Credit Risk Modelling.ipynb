{
 "cells": [
  {
   "cell_type": "markdown",
   "metadata": {},
   "source": [
    "# Credit Risk Modelling\n"
   ]
  },
  {
   "cell_type": "markdown",
   "metadata": {},
   "source": [
    "Modelling creidt risk has been a well known data science problem. Credit has played a key role in the economy for centuries and some form of credit has existed since the beginning of commerce. I will be using financial lending data from Lending Club to model the credit risk. Lending Club is a marketplace for personal loans that matches borrowers who are seeking a loan with investors looking to lend money and make a return. You can read more about their marketplace here.https://www.lendingclub.com/public/how-peer-lending-works.action.\n",
    "\n",
    "Investors main concern is to receive an interest on the returns on their investments. Qualified investor can browse loans, purpose of loan and credit scores of borrowers. Once loan is fully, borrower receive the money less Lending Club transaction fee.\n",
    "\n",
    "Credit modelling on the investors end need to be more rigourous to define with higher probability loans that will be defaulted on and those that will be paid back in full. Higher interest on loans equates to higher returns with the added risk of weak financial history of the borrower.\n",
    "\n",
    "The model with be under the assumption that the investor is conservative risk-appetiite.\n",
    "\n",
    "We will further benchmark this against S&P 500 and MSCI World index in terms of Year-on-Year(YoY)"
   ]
  },
  {
   "cell_type": "markdown",
   "metadata": {},
   "source": [
    "# Data Cleaning"
   ]
  },
  {
   "cell_type": "markdown",
   "metadata": {},
   "source": [
    "Lending Club data is formatted in csv format along with a data dictionary concerning the columns names. **LoanStats** sheet only concerns us as **RejectStats** are not available for investment. \n",
    "\n",
    "### Goal - Build a ML model to accurately predict if a borrower will pay loan on time( or not)\n"
   ]
  },
  {
   "cell_type": "code",
   "execution_count": 28,
   "metadata": {},
   "outputs": [
    {
     "name": "stderr",
     "output_type": "stream",
     "text": [
      "C:\\ProgramData\\Anaconda3\\lib\\site-packages\\IPython\\core\\interactiveshell.py:3020: DtypeWarning: Columns (0,123,124,125,128,129,130,133,138,139,140) have mixed types. Specify dtype option on import or set low_memory=False.\n",
      "  interactivity=interactivity, compiler=compiler, result=result)\n"
     ]
    }
   ],
   "source": [
    "import pandas as pd\n",
    "import numpy as np\n",
    "import matplotlib.pyplot as plt\n",
    "import seaborn as sns\n",
    "\n",
    "%matplotlib inline\n",
    "\n",
    "loans_2019 = pd.read_csv(\"LoanStats_2019Q1.csv\")\n"
   ]
  },
  {
   "cell_type": "code",
   "execution_count": 29,
   "metadata": {},
   "outputs": [
    {
     "data": {
      "text/plain": [
       "Index(['id', 'member_id', 'loan_amnt', 'funded_amnt', 'funded_amnt_inv',\n",
       "       'term', 'int_rate', 'installment', 'grade', 'sub_grade',\n",
       "       ...\n",
       "       'orig_projected_additional_accrued_interest',\n",
       "       'hardship_payoff_balance_amount', 'hardship_last_payment_amount',\n",
       "       'debt_settlement_flag', 'debt_settlement_flag_date',\n",
       "       'settlement_status', 'settlement_date', 'settlement_amount',\n",
       "       'settlement_percentage', 'settlement_term'],\n",
       "      dtype='object', length=144)"
      ]
     },
     "execution_count": 29,
     "metadata": {},
     "output_type": "execute_result"
    }
   ],
   "source": [
    "loans_2019.columns"
   ]
  },
  {
   "cell_type": "code",
   "execution_count": 30,
   "metadata": {},
   "outputs": [
    {
     "data": {
      "text/plain": [
       "(115679, 144)"
      ]
     },
     "execution_count": 30,
     "metadata": {},
     "output_type": "execute_result"
    }
   ],
   "source": [
    "loans_2019.shape"
   ]
  },
  {
   "cell_type": "code",
   "execution_count": 31,
   "metadata": {},
   "outputs": [
    {
     "data": {
      "text/plain": [
       "id                                            115677\n",
       "member_id                                     115679\n",
       "loan_amnt                                          4\n",
       "funded_amnt                                        4\n",
       "funded_amnt_inv                                    4\n",
       "term                                               4\n",
       "int_rate                                           4\n",
       "installment                                        4\n",
       "grade                                              4\n",
       "sub_grade                                          4\n",
       "emp_title                                      19522\n",
       "emp_length                                     11105\n",
       "home_ownership                                     4\n",
       "annual_inc                                         4\n",
       "verification_status                                4\n",
       "issue_d                                            4\n",
       "loan_status                                        4\n",
       "pymnt_plan                                         4\n",
       "url                                           115679\n",
       "desc                                          115679\n",
       "purpose                                            4\n",
       "title                                              4\n",
       "zip_code                                           4\n",
       "addr_state                                         4\n",
       "dti                                              261\n",
       "delinq_2yrs                                        4\n",
       "earliest_cr_line                                   4\n",
       "inq_last_6mths                                     4\n",
       "mths_since_last_delinq                         65803\n",
       "mths_since_last_record                        102256\n",
       "                                               ...  \n",
       "sec_app_mort_acc                               98998\n",
       "sec_app_open_acc                               98998\n",
       "sec_app_revol_util                             99228\n",
       "sec_app_open_act_il                            98998\n",
       "sec_app_num_rev_accts                          98998\n",
       "sec_app_chargeoff_within_12_mths               98998\n",
       "sec_app_collections_12_mths_ex_med             98998\n",
       "sec_app_mths_since_last_major_derog           110778\n",
       "hardship_flag                                      4\n",
       "hardship_type                                 115678\n",
       "hardship_reason                               115678\n",
       "hardship_status                               115678\n",
       "deferral_term                                 115678\n",
       "hardship_amount                               115678\n",
       "hardship_start_date                           115678\n",
       "hardship_end_date                             115678\n",
       "payment_plan_start_date                       115678\n",
       "hardship_length                               115678\n",
       "hardship_dpd                                  115678\n",
       "hardship_loan_status                          115678\n",
       "orig_projected_additional_accrued_interest    115678\n",
       "hardship_payoff_balance_amount                115678\n",
       "hardship_last_payment_amount                  115678\n",
       "debt_settlement_flag                               4\n",
       "debt_settlement_flag_date                     115678\n",
       "settlement_status                             115678\n",
       "settlement_date                               115678\n",
       "settlement_amount                             115678\n",
       "settlement_percentage                         115678\n",
       "settlement_term                               115678\n",
       "Length: 144, dtype: int64"
      ]
     },
     "execution_count": 31,
     "metadata": {},
     "output_type": "execute_result"
    }
   ],
   "source": [
    "loans_2019.isnull().sum()"
   ]
  },
  {
   "cell_type": "markdown",
   "metadata": {},
   "source": [
    "Dropping columns that are 50% empty and above as they have no use."
   ]
  },
  {
   "cell_type": "code",
   "execution_count": 32,
   "metadata": {},
   "outputs": [
    {
     "data": {
      "text/plain": [
       "Index(['loan_amnt', 'funded_amnt', 'funded_amnt_inv', 'term', 'int_rate',\n",
       "       'installment', 'grade', 'sub_grade', 'emp_title', 'emp_length',\n",
       "       ...\n",
       "       'pct_tl_nvr_dlq', 'percent_bc_gt_75', 'pub_rec_bankruptcies',\n",
       "       'tax_liens', 'tot_hi_cred_lim', 'total_bal_ex_mort', 'total_bc_limit',\n",
       "       'total_il_high_credit_limit', 'hardship_flag', 'debt_settlement_flag'],\n",
       "      dtype='object', length=101)"
      ]
     },
     "execution_count": 32,
     "metadata": {},
     "output_type": "execute_result"
    }
   ],
   "source": [
    "for col in loans_2019.columns:\n",
    "    if loans_2019[col].isna().sum() > ((loans_2019.shape[0])/2):\n",
    "        loans_2019.drop(labels = col, axis=1,inplace=True)\n",
    "        \n",
    "        \n",
    "loans_2019.columns"
   ]
  },
  {
   "cell_type": "markdown",
   "metadata": {},
   "source": [
    "There are 101 columns dropped from 141 that we are left with. \n",
    "* Ensure that none of the features leak information about that future. \n",
    "* Badly formatted rows that need to be cleaned up\n",
    "* Require more infor to process to be useful to a important feature\n",
    "* Reduce Redundant Information\n",
    "\n",
    "There are 4 columns with  around 10% of its rows which are empty, lets look at these columns and see what we can do with them and what they represent.\n",
    "\n",
    "emp_length                    11105\n",
    "mths_since_recent_inq         14361\n",
    "il_util                       17323\n",
    "emp_title                     19522\n",
    "\n",
    "**emp_length** indicates the the duration by which the borrower is in the job. Borrower might be self-employed or transitioning between jobs or homeless. Perhaps switching to a categorical format might be better by creating dummy values\n",
    "\n",
    "**il_uti** indiciates the ratio of total current balance to high credit/credit limit on all install acct. It is a indicator to show the capability of the borrowers to return the money.\n",
    "\n",
    "**emp_title** might be useful a predictor to determine if a person job title will return their loans. Extensive preprocesing required.\n",
    "**funded_amnt** :  leaks data about the future\n",
    "**funded_amnt_inv** : leaks information about the future\n",
    "**grade** : Same as interest rate, redundant information\n",
    "**sub_gradee**: Same info as interest rate column\n",
    "**issue_d**: More information was leaked whether the loan is completely funded"
   ]
  },
  {
   "cell_type": "code",
   "execution_count": 33,
   "metadata": {},
   "outputs": [
    {
     "data": {
      "text/plain": [
       "10+ years    34490\n",
       "< 1 year     15044\n",
       "NaN          11105\n",
       "2 years       9695\n",
       "3 years       8719\n",
       "1 year        7919\n",
       "5 years       7189\n",
       "4 years       6777\n",
       "6 years       4636\n",
       "7 years       3913\n",
       "8 years       3625\n",
       "9 years       2567\n",
       "Name: emp_length, dtype: int64"
      ]
     },
     "execution_count": 33,
     "metadata": {},
     "output_type": "execute_result"
    }
   ],
   "source": [
    "loans_2019['emp_length'].value_counts(dropna=False)"
   ]
  },
  {
   "cell_type": "code",
   "execution_count": 34,
   "metadata": {},
   "outputs": [],
   "source": [
    "to_drop_col = ['funded_amnt','funded_amnt_inv','grade','sub_grade','emp_title','issue_d']\n",
    "\n",
    "clean_loans_2019 = loans_2019.drop(columns = to_drop_col,axis=1)"
   ]
  },
  {
   "cell_type": "markdown",
   "metadata": {},
   "source": [
    "**zip_code**: redundant with the addr_state column since only the first 3 digits of the 5 digit zip code are visible (which only can be used to identify the state the borrower lives in)\n",
    "**out_prncp**: leaks data from the future, (after the loan already started to be paid off)\n",
    "**out_prncp_inv**: also leaks data from the future, (after the loan already started to be paid off)\n",
    "**total_pymnt**: also leaks data from the future, (after the loan already started to be paid off)\n",
    "**total_pymnt_inv**: also leaks data from the future, (after the loan already started to be paid off)\n",
    "**total_rec_prncp**: also leaks data from the future, (after the loan already started to be paid off)\n",
    "\n",
    "The **out_prncp** and **out_prncp_inv** both describe the outstanding principal amount for a loan, which is the remaining amount the borrower still owes. These 2 columns as well as the **total_pymnt** column describe properties of the loan after it's fully funded and started to be paid off. This information isn't available to an investor before the loan is fully funded thus it would not be an avaiable feature. "
   ]
  },
  {
   "cell_type": "code",
   "execution_count": 35,
   "metadata": {},
   "outputs": [
    {
     "data": {
      "text/plain": [
       "loan_amnt                  4\n",
       "term                       4\n",
       "int_rate                   4\n",
       "installment                4\n",
       "emp_length             11105\n",
       "home_ownership             4\n",
       "annual_inc                 4\n",
       "verification_status        4\n",
       "loan_status                4\n",
       "pymnt_plan                 4\n",
       "purpose                    4\n",
       "title                      4\n",
       "zip_code                   4\n",
       "addr_state                 4\n",
       "dti                      261\n",
       "delinq_2yrs                4\n",
       "earliest_cr_line           4\n",
       "inq_last_6mths             4\n",
       "open_acc                   4\n",
       "pub_rec                    4\n",
       "revol_bal                  4\n",
       "revol_util               133\n",
       "total_acc                  4\n",
       "initial_list_status        4\n",
       "out_prncp                  4\n",
       "out_prncp_inv              4\n",
       "total_pymnt                4\n",
       "total_pymnt_inv            4\n",
       "total_rec_prncp            4\n",
       "total_rec_int              4\n",
       "dtype: int64"
      ]
     },
     "execution_count": 35,
     "metadata": {},
     "output_type": "execute_result"
    }
   ],
   "source": [
    "clean_loans_2019.isnull().sum()[:30]"
   ]
  },
  {
   "cell_type": "code",
   "execution_count": 36,
   "metadata": {},
   "outputs": [],
   "source": [
    "to_drop_2 = ['zip_code','out_prncp','out_prncp_inv','total_pymnt','total_pymnt_inv']\n",
    "\n",
    "clean_loans_2019.drop(to_drop_2,axis=1,inplace=True)\n"
   ]
  },
  {
   "cell_type": "code",
   "execution_count": 37,
   "metadata": {},
   "outputs": [
    {
     "data": {
      "text/plain": [
       "loan_amnt                         4\n",
       "term                              4\n",
       "int_rate                          4\n",
       "installment                       4\n",
       "emp_length                    11105\n",
       "home_ownership                    4\n",
       "annual_inc                        4\n",
       "verification_status               4\n",
       "loan_status                       4\n",
       "pymnt_plan                        4\n",
       "purpose                           4\n",
       "title                             4\n",
       "addr_state                        4\n",
       "dti                             261\n",
       "delinq_2yrs                       4\n",
       "earliest_cr_line                  4\n",
       "inq_last_6mths                    4\n",
       "open_acc                          4\n",
       "pub_rec                           4\n",
       "revol_bal                         4\n",
       "revol_util                      133\n",
       "total_acc                         4\n",
       "initial_list_status               4\n",
       "total_rec_prncp                   4\n",
       "total_rec_int                     4\n",
       "total_rec_late_fee                4\n",
       "recoveries                        4\n",
       "collection_recovery_fee           4\n",
       "last_pymnt_d                    234\n",
       "last_pymnt_amnt                   4\n",
       "                              ...  \n",
       "mo_sin_old_rev_tl_op              4\n",
       "mo_sin_rcnt_rev_tl_op             4\n",
       "mo_sin_rcnt_tl                    4\n",
       "mort_acc                          4\n",
       "mths_since_recent_bc           1262\n",
       "mths_since_recent_inq         14361\n",
       "num_accts_ever_120_pd             4\n",
       "num_actv_bc_tl                    4\n",
       "num_actv_rev_tl                   4\n",
       "num_bc_sats                       4\n",
       "num_bc_tl                         4\n",
       "num_il_tl                         4\n",
       "num_op_rev_tl                     4\n",
       "num_rev_accts                     4\n",
       "num_rev_tl_bal_gt_0               4\n",
       "num_sats                          4\n",
       "num_tl_120dpd_2m               3150\n",
       "num_tl_30dpd                      4\n",
       "num_tl_90g_dpd_24m                4\n",
       "num_tl_op_past_12m                4\n",
       "pct_tl_nvr_dlq                    4\n",
       "percent_bc_gt_75               1333\n",
       "pub_rec_bankruptcies              4\n",
       "tax_liens                         4\n",
       "tot_hi_cred_lim                   4\n",
       "total_bal_ex_mort                 4\n",
       "total_bc_limit                    4\n",
       "total_il_high_credit_limit        4\n",
       "hardship_flag                     4\n",
       "debt_settlement_flag              4\n",
       "Length: 90, dtype: int64"
      ]
     },
     "execution_count": 37,
     "metadata": {},
     "output_type": "execute_result"
    }
   ],
   "source": [
    "clean_loans_2019.isnull().sum()"
   ]
  },
  {
   "cell_type": "markdown",
   "metadata": {},
   "source": [
    "**total_rec_int** : leaks info when the loan already started to be paid off\n",
    "\n",
    "**total_rec_late_fee** : leaks info when the loan already started to be paid off\n",
    "\n",
    "**recoveries** : leaks info when the loan already started to be paid off\n",
    "\n",
    "**collection_recovery_fee** : leaks info when the loan already started to be paid off\n",
    "\n",
    "**last_pymnt_d** : leaks info when the loan already started to be paid off\n",
    "\n",
    "**last_pymnt_amnt** : leaks info when the loan already started to be paid off\n"
   ]
  },
  {
   "cell_type": "code",
   "execution_count": 38,
   "metadata": {},
   "outputs": [
    {
     "data": {
      "text/plain": [
       "loan_amnt                         4\n",
       "term                              4\n",
       "int_rate                          4\n",
       "installment                       4\n",
       "emp_length                    11105\n",
       "home_ownership                    4\n",
       "annual_inc                        4\n",
       "verification_status               4\n",
       "loan_status                       4\n",
       "pymnt_plan                        4\n",
       "purpose                           4\n",
       "title                             4\n",
       "addr_state                        4\n",
       "dti                             261\n",
       "delinq_2yrs                       4\n",
       "earliest_cr_line                  4\n",
       "inq_last_6mths                    4\n",
       "open_acc                          4\n",
       "pub_rec                           4\n",
       "revol_bal                         4\n",
       "revol_util                      133\n",
       "total_acc                         4\n",
       "initial_list_status               4\n",
       "total_rec_prncp                   4\n",
       "next_pymnt_d                   4910\n",
       "last_credit_pull_d                6\n",
       "collections_12_mths_ex_med        4\n",
       "policy_code                       4\n",
       "application_type                  4\n",
       "acc_now_delinq                    4\n",
       "                              ...  \n",
       "mo_sin_old_rev_tl_op              4\n",
       "mo_sin_rcnt_rev_tl_op             4\n",
       "mo_sin_rcnt_tl                    4\n",
       "mort_acc                          4\n",
       "mths_since_recent_bc           1262\n",
       "mths_since_recent_inq         14361\n",
       "num_accts_ever_120_pd             4\n",
       "num_actv_bc_tl                    4\n",
       "num_actv_rev_tl                   4\n",
       "num_bc_sats                       4\n",
       "num_bc_tl                         4\n",
       "num_il_tl                         4\n",
       "num_op_rev_tl                     4\n",
       "num_rev_accts                     4\n",
       "num_rev_tl_bal_gt_0               4\n",
       "num_sats                          4\n",
       "num_tl_120dpd_2m               3150\n",
       "num_tl_30dpd                      4\n",
       "num_tl_90g_dpd_24m                4\n",
       "num_tl_op_past_12m                4\n",
       "pct_tl_nvr_dlq                    4\n",
       "percent_bc_gt_75               1333\n",
       "pub_rec_bankruptcies              4\n",
       "tax_liens                         4\n",
       "tot_hi_cred_lim                   4\n",
       "total_bal_ex_mort                 4\n",
       "total_bc_limit                    4\n",
       "total_il_high_credit_limit        4\n",
       "hardship_flag                     4\n",
       "debt_settlement_flag              4\n",
       "Length: 84, dtype: int64"
      ]
     },
     "execution_count": 38,
     "metadata": {},
     "output_type": "execute_result"
    }
   ],
   "source": [
    "to_drop_3 = ['total_rec_int','total_rec_late_fee','recoveries','collection_recovery_fee','last_pymnt_d','last_pymnt_amnt']\n",
    "\n",
    "clean_loans_2019.drop(columns = to_drop_3,axis=1,inplace=True)\n",
    "\n",
    "clean_loans_2019.isnull().sum()"
   ]
  },
  {
   "cell_type": "markdown",
   "metadata": {},
   "source": [
    "Columns length drop from 141 to 84. Base on what we want to predict, we should use 'loan_status' as the target column that we want to predict. [Loan Status Information](https://help.lendingclub.com/hc/en-us/articles/215488038-What-do-the-different-Note-statuses-mean-).\n",
    "\n",
    "Base on the link, we only want to predict loans that are paid off on time. This is represented by 'Fully Paid' or 'Charged Off' values. 'Charged Off' status represents loans that have no chance of being repaid.\n",
    "\n",
    "Treating this problem as a **binary classification** problem. We are going to remove all loans that dont contain either 'Fully Paid' or 'Charged Off'\n",
    "\n",
    "To be noted, that is significant **class imbalance** between positive and negative cases. 4730 have been fully paid off while only 176 were charged off, a ratio of 26.85:1\n",
    "\n",
    "Dropping 'loan_status' values that are not either 'Fully Paid' or 'Charged Off'"
   ]
  },
  {
   "cell_type": "code",
   "execution_count": 39,
   "metadata": {},
   "outputs": [
    {
     "data": {
      "text/plain": [
       "(115679, 84)"
      ]
     },
     "execution_count": 39,
     "metadata": {},
     "output_type": "execute_result"
    }
   ],
   "source": [
    "clean_loans_2019['loan_status'].value_counts()\n",
    "clean_loans_2019.shape"
   ]
  },
  {
   "cell_type": "code",
   "execution_count": 40,
   "metadata": {},
   "outputs": [
    {
     "data": {
      "text/plain": [
       "(4906, 84)"
      ]
     },
     "execution_count": 40,
     "metadata": {},
     "output_type": "execute_result"
    }
   ],
   "source": [
    "clean_loans_2019 = clean_loans_2019[(clean_loans_2019['loan_status'] == 'Fully Paid') | (clean_loans_2019['loan_status'] == 'Charged Off')]\n",
    "\n",
    "loan_status_mapping = {'loan_status':{'Fully Paid':1,\"Charged Off\":0}}\n",
    "clean_loans_2019 = clean_loans_2019.replace(loan_status_mapping)\n",
    "\n",
    "\n",
    "clean_loans_2019['loan_status'].value_counts()\n",
    "clean_loans_2019.shape"
   ]
  },
  {
   "cell_type": "markdown",
   "metadata": {},
   "source": [
    "# Dropping columns that contain only 1 unique value"
   ]
  },
  {
   "cell_type": "code",
   "execution_count": 41,
   "metadata": {},
   "outputs": [
    {
     "name": "stdout",
     "output_type": "stream",
     "text": [
      "['pymnt_plan', 'policy_code', 'acc_now_delinq', 'num_tl_120dpd_2m', 'num_tl_30dpd', 'tax_liens', 'hardship_flag']\n"
     ]
    }
   ],
   "source": [
    "orig_columns = clean_loans_2019.columns\n",
    "drop_columns = []\n",
    "for col in orig_columns:\n",
    "    col_series = clean_loans_2019[col].dropna().unique()\n",
    "    if len(col_series) == 1:\n",
    "        drop_columns.append(col)\n",
    "clean_loans_2019 = clean_loans_2019.drop(drop_columns, axis=1)\n",
    "print(drop_columns)\n",
    "\n"
   ]
  },
  {
   "cell_type": "markdown",
   "metadata": {},
   "source": [
    "There is still to much variance in our data, I'll be removing columns base off a csv from [S3 Link](https://dsserver-prod-resources-1.s3.amazonaws.com/134/filtered_loans_2007.csv?versionId=IimLS4KJWbKE2YbRs642R9IoD1qn20UR) that was used for a similar goal.\n",
    "\n",
    "\n"
   ]
  },
  {
   "cell_type": "code",
   "execution_count": 42,
   "metadata": {},
   "outputs": [
    {
     "data": {
      "text/plain": [
       "64     0.0\n",
       "87     0.0\n",
       "91     0.0\n",
       "105    0.0\n",
       "133    0.0\n",
       "Name: pub_rec_bankruptcies, dtype: float64"
      ]
     },
     "execution_count": 42,
     "metadata": {},
     "output_type": "execute_result"
    }
   ],
   "source": [
    "cols_to_keep = ['loan_amnt','term','int_rate','installment','emp_length','home_ownership','annual_inc','verification_status','loan_status','purpose','title','addr_state','dti','delinq_2yrs','earliest_cr_line','inq_last_6mths','open_acc','pub_rec','revol_bal','revol_util','total_acc','last_credit_pull_d','pub_rec_bankruptcies']\n",
    "\n",
    "\n",
    "clean_loans_2019['pub_rec_bankruptcies'].head(5)"
   ]
  },
  {
   "cell_type": "code",
   "execution_count": 43,
   "metadata": {},
   "outputs": [],
   "source": [
    "filtered_2019 = clean_loans_2019.reindex(cols_to_keep,axis=1)"
   ]
  },
  {
   "cell_type": "code",
   "execution_count": 44,
   "metadata": {},
   "outputs": [
    {
     "data": {
      "text/plain": [
       "(4906, 23)"
      ]
     },
     "execution_count": 44,
     "metadata": {},
     "output_type": "execute_result"
    }
   ],
   "source": [
    "filtered_2019.shape"
   ]
  },
  {
   "cell_type": "code",
   "execution_count": 45,
   "metadata": {},
   "outputs": [
    {
     "data": {
      "text/plain": [
       "loan_amnt                 0\n",
       "total_acc                 0\n",
       "revol_bal                 0\n",
       "pub_rec                   0\n",
       "open_acc                  0\n",
       "inq_last_6mths            0\n",
       "earliest_cr_line          0\n",
       "delinq_2yrs               0\n",
       "last_credit_pull_d        0\n",
       "title                     0\n",
       "addr_state                0\n",
       "loan_status               0\n",
       "verification_status       0\n",
       "annual_inc                0\n",
       "home_ownership            0\n",
       "installment               0\n",
       "int_rate                  0\n",
       "term                      0\n",
       "purpose                   0\n",
       "pub_rec_bankruptcies      0\n",
       "dti                      14\n",
       "revol_util               14\n",
       "emp_length              474\n",
       "dtype: int64"
      ]
     },
     "execution_count": 45,
     "metadata": {},
     "output_type": "execute_result"
    }
   ],
   "source": [
    "filtered_2019.isnull().sum().sort_values()"
   ]
  },
  {
   "cell_type": "markdown",
   "metadata": {},
   "source": [
    "Employment length is frequently used in assessing how risky a potential borrower is, so we'll keep this column despite its relatively large amount of missing values."
   ]
  },
  {
   "cell_type": "code",
   "execution_count": 46,
   "metadata": {},
   "outputs": [
    {
     "data": {
      "text/plain": [
       "object     11\n",
       "float64    11\n",
       "int64       1\n",
       "dtype: int64"
      ]
     },
     "execution_count": 46,
     "metadata": {},
     "output_type": "execute_result"
    }
   ],
   "source": [
    "filtered_2019.dtypes.value_counts()"
   ]
  },
  {
   "cell_type": "markdown",
   "metadata": {},
   "source": [
    "We can only work with numerical of categorical columns when peforming ML techniques the need to convert object values to categorical."
   ]
  },
  {
   "cell_type": "code",
   "execution_count": 47,
   "metadata": {},
   "outputs": [
    {
     "name": "stdout",
     "output_type": "stream",
     "text": [
      "           term int_rate emp_length home_ownership verification_status  \\\n",
      "64    60 months   15.57%  10+ years       MORTGAGE        Not Verified   \n",
      "87    36 months   17.19%    5 years           RENT     Source Verified   \n",
      "91    36 months   13.90%  10+ years           RENT        Not Verified   \n",
      "105   36 months   28.80%        NaN       MORTGAGE            Verified   \n",
      "133   60 months   12.40%        NaN       MORTGAGE        Not Verified   \n",
      "\n",
      "                purpose                    title addr_state earliest_cr_line  \\\n",
      "64   debt_consolidation       Debt consolidation         CO           Oct-06   \n",
      "87   debt_consolidation       Debt consolidation         MO           Jun-06   \n",
      "91   debt_consolidation       Debt consolidation         NY           Dec-11   \n",
      "105         credit_card  Credit card refinancing         OH           Apr-90   \n",
      "133         credit_card  Credit card refinancing         GA           Feb-97   \n",
      "\n",
      "    revol_util last_credit_pull_d  \n",
      "64      78.50%             Jun-19  \n",
      "87      83.60%             May-19  \n",
      "91      58.60%             May-19  \n",
      "105     87.60%             Apr-19  \n",
      "133        49%             Mar-19  \n"
     ]
    }
   ],
   "source": [
    "object_cols_df = filtered_2019.select_dtypes(include=['object'])\n",
    "print(object_cols_df.head())"
   ]
  },
  {
   "cell_type": "markdown",
   "metadata": {},
   "source": [
    "**term** No. of payments on the loan, 36 to 60 months. These are discrete values\n",
    "\n",
    "**int_rate** Should be a numeric value, omit the % and convert to float\n",
    "\n",
    "**emp_length** No. of years borrower was employed on application\n",
    "\n",
    "**home_ownership** Can only exist as 1 of 4 categories, use dummy columns\n",
    "\n",
    "**verification_status** If income was verified by Lending Club\n",
    "\n",
    "**purpose** : a cat to provided by borrower for loan req\n",
    "\n",
    "**title**: loan refinancing\n",
    "\n",
    "**addr_state** borrower's state of residence\n",
    "\n",
    "**earliest_cr_line**: Month the borrower earliest reported credit line was opened.\n",
    "\n",
    "**revol_util ** Utilization rate of credit relative to all credit available. This too should be in numeric value.\n",
    "\n",
    "**last_credit_pull_d** Most recent month lending club pulled credit from loan\n",
    "\n",
    "Dates require more feature engineering for my purpose, would be useful to explore these dates in the future\n",
    "\n"
   ]
  },
  {
   "cell_type": "markdown",
   "metadata": {},
   "source": [
    "**home_ownership**,**verification_status**,**emp_length**,**term** each contain a few discrete categorical values which can be encoded to dummy variable to keep.\n",
    "\n",
    "**purpose** and **title** contain overlapping message to bring across. Title can be varied, base on the borrower's phrasing, whilst purpose have a set of pre-defined values, limiting the number of discretionary values.\n",
    "\n",
    "**emp_length** will be mapped based on the following:\n",
    "\n",
    "1) **10+ years** we assume that people more than 10 years only work 10 years. Information of value after 10 are not available\n",
    "\n",
    "2)  **< 1 year** and **n/a** values are assumed to be 0, information about whether they have worked from to 1 to 12 months is not available and we can simply put them in the 1 year category.\n",
    "\n",
    "Lastly **addr_state**, 49 additional columns are required to be created, making classification much slower. AFter consideration, it will be removed.\n",
    "\n"
   ]
  },
  {
   "cell_type": "code",
   "execution_count": 48,
   "metadata": {},
   "outputs": [
    {
     "data": {
      "text/plain": [
       "10+ years    1614\n",
       "< 1 year      512\n",
       "NaN           474\n",
       "2 years       414\n",
       "3 years       363\n",
       "1 year        345\n",
       "5 years       288\n",
       "4 years       254\n",
       "6 years       208\n",
       "7 years       183\n",
       "8 years       154\n",
       "9 years        97\n",
       "Name: emp_length, dtype: int64"
      ]
     },
     "execution_count": 48,
     "metadata": {},
     "output_type": "execute_result"
    }
   ],
   "source": [
    "filtered_2019['emp_length'].value_counts(dropna=False)"
   ]
  },
  {
   "cell_type": "code",
   "execution_count": 49,
   "metadata": {},
   "outputs": [],
   "source": [
    "mapping_dict = {\n",
    "    \"emp_length\": {\n",
    "        \"10+ years\": 10,\n",
    "        \"9 years\": 9,\n",
    "        \"8 years\": 8,\n",
    "        \"7 years\": 7,\n",
    "        \"6 years\": 6,\n",
    "        \"5 years\": 5,\n",
    "        \"4 years\": 4,\n",
    "        \"3 years\": 3,\n",
    "        \"2 years\": 2,\n",
    "        \"1 year\": 1,\n",
    "        \"< 1 year\": 0,\n",
    "        np.nan: 0\n",
    "    }\n",
    "}"
   ]
  },
  {
   "cell_type": "code",
   "execution_count": 50,
   "metadata": {},
   "outputs": [
    {
     "data": {
      "text/plain": [
       "Index(['loan_amnt', 'term', 'int_rate', 'installment', 'emp_length',\n",
       "       'home_ownership', 'annual_inc', 'verification_status', 'loan_status',\n",
       "       'purpose', 'title', 'addr_state', 'dti', 'delinq_2yrs',\n",
       "       'earliest_cr_line', 'inq_last_6mths', 'open_acc', 'pub_rec',\n",
       "       'revol_bal', 'revol_util', 'total_acc', 'last_credit_pull_d',\n",
       "       'pub_rec_bankruptcies'],\n",
       "      dtype='object')"
      ]
     },
     "execution_count": 50,
     "metadata": {},
     "output_type": "execute_result"
    }
   ],
   "source": [
    "filtered_2019.columns"
   ]
  },
  {
   "cell_type": "code",
   "execution_count": 51,
   "metadata": {},
   "outputs": [],
   "source": [
    "col_to_remove = ['last_credit_pull_d','addr_state','title','earliest_cr_line']\n",
    "\n",
    "filtered_2019.drop(col_to_remove,axis=1,inplace=True)\n",
    "\n",
    "filtered_2019['int_rate'] = filtered_2019['int_rate'].str.rstrip(\"%\").astype('float')\n",
    "\n",
    "filtered_2019['revol_util'] = filtered_2019['revol_util'].str.rstrip(\"%\").astype('float')\n",
    "\n",
    "filtered_2019.replace(mapping_dict,inplace=True)"
   ]
  },
  {
   "cell_type": "markdown",
   "metadata": {},
   "source": [
    "Creat dummy columns "
   ]
  },
  {
   "cell_type": "code",
   "execution_count": 61,
   "metadata": {},
   "outputs": [],
   "source": [
    "dummy_cols = ['home_ownership','verification_status','term','purpose']\n",
    "\n",
    "dummies = pd.get_dummies(filtered_2019[dummy_cols])\n",
    "\n",
    "#Concat back actual with dummies\n",
    "\n",
    "filtered_2019 = pd.concat([filtered_2019,dummies],axis=1)\n",
    "\n",
    "#Drop columns used to make dummies\n",
    "filtered_2019 = filtered_2019.drop(dummy_cols,axis=1)"
   ]
  },
  {
   "cell_type": "code",
   "execution_count": null,
   "metadata": {},
   "outputs": [],
   "source": []
  }
 ],
 "metadata": {
  "kernelspec": {
   "display_name": "Python 3",
   "language": "python",
   "name": "python3"
  },
  "language_info": {
   "codemirror_mode": {
    "name": "ipython",
    "version": 3
   },
   "file_extension": ".py",
   "mimetype": "text/x-python",
   "name": "python",
   "nbconvert_exporter": "python",
   "pygments_lexer": "ipython3",
   "version": "3.7.1"
  }
 },
 "nbformat": 4,
 "nbformat_minor": 2
}
